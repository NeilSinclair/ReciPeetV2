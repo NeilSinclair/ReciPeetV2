{
 "cells": [
  {
   "cell_type": "code",
   "execution_count": 1,
   "metadata": {},
   "outputs": [],
   "source": [
    "# ALlrecipes.com scraper\n",
    "import numpy as np\n",
    "from bs4 import BeautifulSoup\n",
    "import requests\n",
    "import urllib.request\n",
    "from urllib.request import Request, urlopen\n",
    "import re\n",
    "import pandas as pd\n",
    "# Libraries to track the scraping\n",
    "import time\n",
    "from tqdm import tqdm_notebook\n",
    "import random\n",
    "import socks\n",
    "import socket\n",
    "from torpy.http.requests import TorRequests\n",
    "import time\n",
    "\n",
    "# Libraries for communicating with Tor\n",
    "from stem import Signal\n",
    "from stem.control import Controller\n",
    "\n",
    "# DB libraries\n",
    "import sqlalchemy\n",
    "import os\n",
    "import re"
   ]
  },
  {
   "cell_type": "code",
   "execution_count": 2,
   "metadata": {},
   "outputs": [],
   "source": [
    "tor_pswd = \"872860B76453A77D60CA2BB8C1A7042072093276A3D701AD684053EC4C\""
   ]
  },
  {
   "cell_type": "code",
   "execution_count": 3,
   "metadata": {},
   "outputs": [],
   "source": [
    "# Create the database object to connect\n",
    "db_name = 'recipesdb'\n",
    "db_host = 'localhost'\n",
    "db_user = 'NeilSinclair'\n",
    "db_pass = 'Passw0rd!'\n",
    "db = sqlalchemy.create_engine('mysql+pymysql://{}:{}@{}/{}'.format(db_user, db_pass, db_host, db_name))"
   ]
  },
  {
   "cell_type": "code",
   "execution_count": 4,
   "metadata": {},
   "outputs": [],
   "source": [
    "# Functions for creating new sessions in order to surf through a proxy\n",
    "\n",
    "def get_tor_session():\n",
    "    session = requests.session()\n",
    "    # Tor uses the 9050 port as the default socks port\n",
    "    session.proxies = {'http':  'socks5://127.0.0.1:9150',\n",
    "                       'https': 'socks5://127.0.0.1:9150'}\n",
    "    return session\n",
    "\n",
    "\n",
    "#session = get_tor_session()\n",
    "#print(session.get(\"http://httpbin.org/ip\").text)\n",
    "\n",
    "# signal TOR for a new connection \n",
    "def renew_connection():\n",
    "    with Controller.from_port(port = 9051) as controller:\n",
    "        controller.authenticate(password=tor_pswd)\n",
    "        controller.signal(Signal.NEWNYM)\n",
    "\n",
    "#renew_connection()\n",
    "\n",
    "#session = get_tor_session()\n",
    "#print(session.get(\"http://httpbin.org/ip\").text)"
   ]
  },
  {
   "cell_type": "code",
   "execution_count": 5,
   "metadata": {},
   "outputs": [],
   "source": [
    "# Set the pattern for finding the links for the pages; use this to find the links as they're stored in text on the page\n",
    "url_pattern = re.compile('detailUrl\":\"(/recipe/[0-9]+/[a-z-]*/)')\n",
    "def get_links(url):\n",
    "    response = requests.get(url)\n",
    "    page_urls = re.findall(url_pattern, response.text)\n",
    "    return page_urls\n",
    "\n",
    "def collect_data(link, session, recipes_captured):\n",
    "    # Function that scrapes the relevant data from the page\n",
    "    # Parameter - link - a link to a recipe, passed one at time\n",
    "    #           - session - a Tor session to scrape using a proxy\n",
    "    #           - recipes_captured - a list of recipes already captured\n",
    "    # Returns   - a dictionary {name: {rating: *, category: cats, ingredients: [], method: [], prep: #, cook: #}}\n",
    "    \n",
    "    url = \"https://www.allrecipes.com\" + str(link)\n",
    "    # Get a new IP address from Tor\n",
    "    #session = get_tor_session()\n",
    "    response = session.get(url)\n",
    "    soup = BeautifulSoup(response.text, \"html.parser\")\n",
    "    \n",
    "    recipe_dict = {}\n",
    "    \n",
    "    # Get title\n",
    "    title = soup.find_all(\"meta\",attrs = {\"property\":\"og:title\"})\n",
    "    title = re.findall('=\"(.*)\" ', str(title))[0]\n",
    "    # Check if the recipe has already been captured; if it has, skip it\n",
    "    if title.lower() in recipes_captured:\n",
    "        return None\n",
    "    \n",
    "    # Get food categories / hierarchy\n",
    "    category_list = []\n",
    "    categories = soup.find_all(\"span\", class_=\"toggle-similar__title\")\n",
    "    if len(categories) == 0:\n",
    "        categories = soup.find_all(\"span\", class_=\"breadcrumbs__title\")\n",
    "\n",
    "    for cat in categories:\n",
    "        cat = re.sub(\"\\n\", \"\", cat.getText()).strip()\n",
    "        if cat in [\"Home\", \"Recipes\"]:\n",
    "            continue\n",
    "        category_list.append(cat)\n",
    "   \n",
    "    \n",
    "    # Get rating\n",
    "    rating_data = soup.find_all(\"meta\",attrs = {\"property\":\"og:rating\"})\n",
    "    if len(rating_data) == 0:\n",
    "        rating_data = soup.find_all(\"meta\",attrs = {\"name\":\"og:rating\"})\n",
    "    rating = re.findall('content=\"([0-9][.]*[0-9]{0,2})',str(rating_data))[0]\n",
    "    \n",
    "    # Get ingredients\n",
    "    ingredient_list = []\n",
    "    ingredients = soup.find_all(\"span\",class_=\"recipe-ingred_txt added\")\n",
    "    if len(ingredients) == 0:\n",
    "        ingredients = soup.find_all(\"span\",class_=\"ingredients-item-name\")\n",
    "    \n",
    "    for ingredient in ingredients:\n",
    "        ingredient_list.append(split_quantity_ingredients(ingredient.getText().strip()))\n",
    "    \n",
    "    # Get cooking method\n",
    "    cooking_method_list = []\n",
    "    cooking_method = soup.find_all(\"span\",class_=\"recipe-directions__list--item\")\n",
    "    if len(cooking_method) == 0:\n",
    "        cooking_method = soup.find_all(\"div\", class_=\"section-body\")\n",
    "    for method in cooking_method:\n",
    "        method = re.sub(\"\\n\",\"\",method.getText()).strip()\n",
    "        if len(re.findall(\"[0-9]* calories\", method)) == 0 and len(method) > 0:\n",
    "            cooking_method_list.append(method)\n",
    "\n",
    "    # Get prep and cook times\n",
    "    cooktimes = soup.find_all(\"time\")\n",
    "    if len(cooktimes) == 0:\n",
    "        prep = re.findall('prepTime\": \"(PT[0-9]*[A-Z])',response.text)\n",
    "        cook = re.findall('cookTime\": \"(PT[0-9]*[A-Z])',response.text)\n",
    "    else:\n",
    "        cooktimes = re.findall('datetime=\"(PT[0-9]*[A-Z])', str(cooktimes))\n",
    "        prep = cooktimes[0]\n",
    "        cook = cooktimes[1]\n",
    "    \n",
    "    # Create and returnt the dictionary\n",
    "    recipe_dict[title] = {\"Rating\":rating,\n",
    "                          \"Category\": category_list,\n",
    "                          \"Ingredients\": ingredient_list,\n",
    "                          \"Method\": cooking_method_list,\n",
    "                          \"Prep time\": prep,\n",
    "                          \"Cooking time\": cook}\n",
    "    \n",
    "    return recipe_dict\n",
    "\n",
    "def split_quantity_ingredients(ingredient):\n",
    "    # Function that splits the ingredient items from their quantity so the two can be stored separately\n",
    "    # Parameters - ingredient: a single ingredient like \"1 tablespoon beetroot juice\"\n",
    "    # Returns    - two lists, ingredients and quantity\n",
    "    \n",
    "    # Remove stuff in brackets (it doesn't add value) and remove doubles spaces\n",
    "    ingredient = re.sub(\" \\(.*\\)\", \"\", ingredient)\n",
    "    ingredient = re.sub(\"  \", \" \", ingredient) \n",
    "    \n",
    "    # Test to see how long the ingredients item so that items like \"2 eggs\" get split into two items\n",
    "    # If it's only two items, assume the first is the quantity\n",
    "    if len(ingredient.split(' ')) <= 2 or ingredient.split(' ')[1][-1] == \",\":\n",
    "        ingredient = ingredient.split(' ')\n",
    "        if re.search('[0-9]',ingredient[0]) is None:\n",
    "            item = ' '.join(ingredient)\n",
    "            quantity = 0\n",
    "        else:\n",
    "            quantity = ingredient[0]\n",
    "            item = ' '.join(ingredient[1:])\n",
    "    \n",
    "    elif len(ingredient.split(' ')) > 2: \n",
    "        # Check for those unicode 1/2, 1/4, 1/8 etc... and replace with a number\n",
    "        if ord(ingredient[0]) in [189, 8531, 188, 8532, 8533, 190, 8533, 8539]:\n",
    "            unicode_dict = {188: \"1/4\", 189: \"1/2\", 8531: \"1/3\", 8532: \"2/3\", 190: \"3/4\", 8533: \"1/5\",\n",
    "                            8529: \"1/8\"}\n",
    "            ingredient = unicode_dict.get(ord(ingredient[0])) + ingredient[1:]\n",
    "        \n",
    "        # Check if the unicodes occur in the 3rd place in the string - e.g. 1 1/2\n",
    "        if ord(ingredient[2]) in [189, 8531, 188, 8532, 8533, 190, 8533, 8539]:\n",
    "            unicode_dict = {188: \"1/4\", 189: \"1/2\", 8531: \"1/3\", 8532: \"2/3\", 190: \"3/4\", 8533: \"1/5\",\n",
    "                            8529: \"1/8\"}\n",
    "            ingredient = ingredient[0:2] + unicode_dict.get(ord(ingredient[2])) + ingredient[3:]\n",
    "        \n",
    "        # Create the patterns for getting the quantities followed by the ingredients\n",
    "        quantity_pattern = re.compile(\"([0-9] *[0-9]*[.]*/*-*[0-9]*/*[0-9]* \\w+)\")\n",
    "        quantity = re.findall(quantity_pattern, ingredient)\n",
    "        \n",
    "        if len(quantity) > 0:\n",
    "        # The ingredient follows after the quantity, so look there for it\n",
    "            ingredient_pattern = re.compile(str(quantity[-1]+\" (.*)\"))\n",
    "            quantity = '/'.join(quantity)\n",
    "            item = ingredient_pattern.search(ingredient)\n",
    "            if item is not None:\n",
    "                item = item[1]\n",
    "            else:\n",
    "                item = \"\"\n",
    "        else:\n",
    "            quantity = \"\"\n",
    "            item = ingredient\n",
    "\n",
    "    \n",
    "    return quantity, item\n",
    "    \n",
    "def get_recipes(links, iters, db):\n",
    "    # Simple function that loads #iters recipes at once and then loads these into the database\n",
    "    # Parameters:  links       - randomized numerical links list e.g. [12191, 6521,...90876]\n",
    "    #              \n",
    "    #              iters       - The number of pages loaded at once\n",
    "    #              db          - the sqlalchemy db engine    \n",
    "    # Returns:     Position in the links list of the last page scraped\n",
    "    \n",
    "    # Get a list of the recipes currently in the DB\n",
    "    with db.connect() as conn:\n",
    "        recipes_captured = conn.execute(\"SELECT (recipe_name) FROM recipes\").fetchall()\n",
    "        recipes_captured = [recipe[0] for recipe in recipes_captured]\n",
    "    \n",
    "    bad_links = []\n",
    "    recipe_dict = {}    \n",
    "    # To prevent the IP address from getting blocked, we need to change the IP address every 12 attempts\n",
    "    for i in np.arange(0, iters, 12):\n",
    "        # Get the session through Tor\n",
    "        session = get_tor_session()\n",
    "        # Going from the last link scraped, scrape iter numbers of pages\n",
    "        for n in tqdm_notebook(range(i,i+12)):\n",
    "            link = '/recipe/'+str(links[n])\n",
    "            try:\n",
    "                temp_dict = collect_data(link, session, recipes_captured)\n",
    "                if temp_dict is not None:\n",
    "                    recipe_dict.update(temp_dict)\n",
    "                else:\n",
    "                    print(\"Duplicate recipe skipped\")\n",
    "            except:\n",
    "                bad_links.append(links[n])\n",
    "                print(\"Error with link: {}\".format(link))\n",
    "                \n",
    "            time.sleep(1.7) # Sleep period to prevent from being banned\n",
    "        # Change the IP address on every one of these outer loops (i.e once every 12 pages)\n",
    "        renew_connection()\n",
    "    \n",
    "    # Put the dictionary into a DataFrame for processing (might not actually be necessary)\n",
    "    recipe_df = np.transpose(pd.DataFrame(recipe_dict))\n",
    "    recipe_df.reset_index(inplace = True)\n",
    "    recipe_df.rename(columns={\"index\":\"Recipe_name\", \"Cooking time\":\"Cooking_time\", \"Prep time\":\"Prep_time\"}, inplace = True)\n",
    "    \n",
    "    # Add to the database and return the number of recipes added\n",
    "    recipes_added = write_to_db(recipe_df, db)\n",
    "    print(\"Number of recipes added: {}\".format(recipes_added))\n",
    "    \n",
    "    return bad_links\n",
    "\n",
    "def write_to_db(recipe_df, db):\n",
    "    # Function that writes recipes to the database\n",
    "    # Parameters: recipe_df - a dataframe containing the recipes to be written to the DB\n",
    "    #             db        - the sqlalchemy database engine\n",
    "    # Returns: the number of recipes added to the DB\n",
    "    \n",
    "    # load items into the database\n",
    "    col_order = [\"recipe_name\", \"category\", \"cooking_time\", \"ingredients\", \"method\", \"prep_time\", \"rating\"]\n",
    "    query = 'INSERT INTO recipes (' + ' ,'.join(col_order) + ') VALUES (' + '%s, %s, %s, %s, %s, %s, %s' + ')'\n",
    "\n",
    "    with db.connect() as conn:\n",
    "        counter = 0\n",
    "        # Get a list of al of the recipes currently in the database\n",
    "        recipes_captured = [item[0] for item in conn.execute(\"SELECT (recipe_name) FROM recipes\").fetchall()]\n",
    "        # Cycle through each line in the dataframe currently storing the recipes\n",
    "        for i in range(0,recipe_df.shape[0]):\n",
    "            temp_list = []\n",
    "            # See if the recipe has been captured already, if so, don't add and move onto the next one  \n",
    "            recipe = recipe_df.iloc[i, :]\n",
    "            if recipe[0].lower() in recipes_captured:\n",
    "                print(\"Recipe {}: already on database\".format(recipe[0]))\n",
    "                continue\n",
    "            else:\n",
    "                for item in recipe:\n",
    "                    item = re.sub(\"\\[|\\]\", \"\", str(item)).lower()\n",
    "                    temp_list.append(str(item))\n",
    "                conn.execute(query, tuple(temp_list))\n",
    "                conn.execute(\"COMMIT\")\n",
    "                counter += 1\n",
    "    \n",
    "    return(counter) \n",
    "\n",
    "def clean_links_list(random_idx, num_iters):\n",
    "    # Function that takes in a list of all the potential links to search through and returns\n",
    "    # the links to search for that iteration and the list of random links minus the ones being searched\n",
    "    links_to_pass = random.sample(random_idx, num_iters)\n",
    "    \n",
    "    for link in links_to_pass:\n",
    "        random_idx.remove(link)\n",
    "    \n",
    "    return links_to_pass, random_idx"
   ]
  },
  {
   "cell_type": "code",
   "execution_count": 19,
   "metadata": {},
   "outputs": [
    {
     "data": {
      "text/plain": [
       "8256"
      ]
     },
     "execution_count": 19,
     "metadata": {},
     "output_type": "execute_result"
    }
   ],
   "source": [
    "#start_idx\n",
    "# Create a list of ~ 250,000 random numbers and pass these in batches to the search programme; this will help to get \n",
    "# a more diverse array of recipes and prevent getting stuck in a long tranche where there aren't any recipes\n",
    "#random_idx20 = np.arange(11000,20000).tolist()\n",
    "with open('download_trackers/links_tracker20.csv') as tracker_csv:\n",
    "    random_idx20 = list(tracker_csv.read().split(','))\n",
    "random_idx20 = [re.sub(\"[^0-9]\", '', str(item)) for item in random_idx20]\n",
    "len(random_idx20)"
   ]
  },
  {
   "cell_type": "code",
   "execution_count": 13,
   "metadata": {},
   "outputs": [
    {
     "name": "stdout",
     "output_type": "stream",
     "text": [
      "http://recipes.com/11001\n"
     ]
    }
   ],
   "source": []
  },
  {
   "cell_type": "code",
   "execution_count": 15,
   "metadata": {},
   "outputs": [],
   "source": [
    "bad_links = []"
   ]
  },
  {
   "cell_type": "code",
   "execution_count": 26,
   "metadata": {},
   "outputs": [
    {
     "data": {
      "application/vnd.jupyter.widget-view+json": {
       "model_id": "b4fd85415dbe4c4b973efc62c74197ca",
       "version_major": 2,
       "version_minor": 0
      },
      "text/plain": [
       "HBox(children=(IntProgress(value=0, max=12), HTML(value='')))"
      ]
     },
     "metadata": {},
     "output_type": "display_data"
    },
    {
     "name": "stdout",
     "output_type": "stream",
     "text": [
      "\n"
     ]
    },
    {
     "data": {
      "application/vnd.jupyter.widget-view+json": {
       "model_id": "a90de8516a714fdc8b9fd63ac2482eab",
       "version_major": 2,
       "version_minor": 0
      },
      "text/plain": [
       "HBox(children=(IntProgress(value=0, max=12), HTML(value='')))"
      ]
     },
     "metadata": {},
     "output_type": "display_data"
    },
    {
     "name": "stdout",
     "output_type": "stream",
     "text": [
      "Error with link: /recipe/19147\n",
      "Error with link: /recipe/19445\n",
      "Error with link: /recipe/19990\n",
      "\n"
     ]
    },
    {
     "data": {
      "application/vnd.jupyter.widget-view+json": {
       "model_id": "052d6555eb454fd093af226d33e5f92d",
       "version_major": 2,
       "version_minor": 0
      },
      "text/plain": [
       "HBox(children=(IntProgress(value=0, max=12), HTML(value='')))"
      ]
     },
     "metadata": {},
     "output_type": "display_data"
    },
    {
     "name": "stdout",
     "output_type": "stream",
     "text": [
      "Error with link: /recipe/19561\n",
      "\n"
     ]
    },
    {
     "data": {
      "application/vnd.jupyter.widget-view+json": {
       "model_id": "0b49b7844cfd45b6af586bfff0b5b4ff",
       "version_major": 2,
       "version_minor": 0
      },
      "text/plain": [
       "HBox(children=(IntProgress(value=0, max=12), HTML(value='')))"
      ]
     },
     "metadata": {},
     "output_type": "display_data"
    },
    {
     "name": "stdout",
     "output_type": "stream",
     "text": [
      "\n",
      "Number of recipes added: 44\n"
     ]
    },
    {
     "data": {
      "application/vnd.jupyter.widget-view+json": {
       "model_id": "7fd4171142bc482d9e708214362ab651",
       "version_major": 2,
       "version_minor": 0
      },
      "text/plain": [
       "HBox(children=(IntProgress(value=0, max=12), HTML(value='')))"
      ]
     },
     "metadata": {},
     "output_type": "display_data"
    },
    {
     "name": "stdout",
     "output_type": "stream",
     "text": [
      "\n"
     ]
    },
    {
     "data": {
      "application/vnd.jupyter.widget-view+json": {
       "model_id": "4142ae09f831480082e204a91ffd9be2",
       "version_major": 2,
       "version_minor": 0
      },
      "text/plain": [
       "HBox(children=(IntProgress(value=0, max=12), HTML(value='')))"
      ]
     },
     "metadata": {},
     "output_type": "display_data"
    },
    {
     "name": "stdout",
     "output_type": "stream",
     "text": [
      "Error with link: /recipe/19885\n",
      "Error with link: /recipe/18903\n",
      "\n"
     ]
    },
    {
     "data": {
      "application/vnd.jupyter.widget-view+json": {
       "model_id": "7f3482e341864b388979ad84ff2c576e",
       "version_major": 2,
       "version_minor": 0
      },
      "text/plain": [
       "HBox(children=(IntProgress(value=0, max=12), HTML(value='')))"
      ]
     },
     "metadata": {},
     "output_type": "display_data"
    },
    {
     "name": "stdout",
     "output_type": "stream",
     "text": [
      "Error with link: /recipe/18691\n",
      "\n"
     ]
    },
    {
     "data": {
      "application/vnd.jupyter.widget-view+json": {
       "model_id": "2773b14a017544d4add1b4d25762254e",
       "version_major": 2,
       "version_minor": 0
      },
      "text/plain": [
       "HBox(children=(IntProgress(value=0, max=12), HTML(value='')))"
      ]
     },
     "metadata": {},
     "output_type": "display_data"
    },
    {
     "name": "stdout",
     "output_type": "stream",
     "text": [
      "Duplicate recipe skipped\n",
      "Duplicate recipe skipped\n",
      "\n",
      "Number of recipes added: 43\n"
     ]
    },
    {
     "data": {
      "application/vnd.jupyter.widget-view+json": {
       "model_id": "5af9f758de544e878d4369db3092648d",
       "version_major": 2,
       "version_minor": 0
      },
      "text/plain": [
       "HBox(children=(IntProgress(value=0, max=12), HTML(value='')))"
      ]
     },
     "metadata": {},
     "output_type": "display_data"
    },
    {
     "name": "stdout",
     "output_type": "stream",
     "text": [
      "\n"
     ]
    },
    {
     "data": {
      "application/vnd.jupyter.widget-view+json": {
       "model_id": "4af6973b91a24952a145de566870a0aa",
       "version_major": 2,
       "version_minor": 0
      },
      "text/plain": [
       "HBox(children=(IntProgress(value=0, max=12), HTML(value='')))"
      ]
     },
     "metadata": {},
     "output_type": "display_data"
    },
    {
     "name": "stdout",
     "output_type": "stream",
     "text": [
      "Error with link: /recipe/19543\n",
      "Error with link: /recipe/19176\n",
      "\n"
     ]
    },
    {
     "data": {
      "application/vnd.jupyter.widget-view+json": {
       "model_id": "8756441172214ad097ec4e676c11d2fc",
       "version_major": 2,
       "version_minor": 0
      },
      "text/plain": [
       "HBox(children=(IntProgress(value=0, max=12), HTML(value='')))"
      ]
     },
     "metadata": {},
     "output_type": "display_data"
    },
    {
     "name": "stdout",
     "output_type": "stream",
     "text": [
      "Error with link: /recipe/18574\n",
      "\n"
     ]
    },
    {
     "data": {
      "application/vnd.jupyter.widget-view+json": {
       "model_id": "3cdc90d66e0d44aa925d89665ca6d08e",
       "version_major": 2,
       "version_minor": 0
      },
      "text/plain": [
       "HBox(children=(IntProgress(value=0, max=12), HTML(value='')))"
      ]
     },
     "metadata": {},
     "output_type": "display_data"
    },
    {
     "name": "stdout",
     "output_type": "stream",
     "text": [
      "\n",
      "Number of recipes added: 45\n"
     ]
    },
    {
     "data": {
      "application/vnd.jupyter.widget-view+json": {
       "model_id": "ba9ab5daf3e64d4ab58e70631b59df7e",
       "version_major": 2,
       "version_minor": 0
      },
      "text/plain": [
       "HBox(children=(IntProgress(value=0, max=12), HTML(value='')))"
      ]
     },
     "metadata": {},
     "output_type": "display_data"
    },
    {
     "name": "stdout",
     "output_type": "stream",
     "text": [
      "Error with link: /recipe/19170\n",
      "\n"
     ]
    },
    {
     "data": {
      "application/vnd.jupyter.widget-view+json": {
       "model_id": "1849132aea2a4212b790b24587c2762a",
       "version_major": 2,
       "version_minor": 0
      },
      "text/plain": [
       "HBox(children=(IntProgress(value=0, max=12), HTML(value='')))"
      ]
     },
     "metadata": {},
     "output_type": "display_data"
    },
    {
     "name": "stdout",
     "output_type": "stream",
     "text": [
      "\n"
     ]
    },
    {
     "data": {
      "application/vnd.jupyter.widget-view+json": {
       "model_id": "5eae77533f5941ca9e1939ea0103e6af",
       "version_major": 2,
       "version_minor": 0
      },
      "text/plain": [
       "HBox(children=(IntProgress(value=0, max=12), HTML(value='')))"
      ]
     },
     "metadata": {},
     "output_type": "display_data"
    },
    {
     "name": "stdout",
     "output_type": "stream",
     "text": [
      "Error with link: /recipe/18734\n",
      "Duplicate recipe skipped\n",
      "\n"
     ]
    },
    {
     "data": {
      "application/vnd.jupyter.widget-view+json": {
       "model_id": "c1884fffdbe344ee9083a6169afbc2ac",
       "version_major": 2,
       "version_minor": 0
      },
      "text/plain": [
       "HBox(children=(IntProgress(value=0, max=12), HTML(value='')))"
      ]
     },
     "metadata": {},
     "output_type": "display_data"
    },
    {
     "name": "stdout",
     "output_type": "stream",
     "text": [
      "Duplicate recipe skipped\n",
      "\n",
      "Number of recipes added: 44\n"
     ]
    },
    {
     "data": {
      "application/vnd.jupyter.widget-view+json": {
       "model_id": "b6e524700ad24a91a0951b598b616a49",
       "version_major": 2,
       "version_minor": 0
      },
      "text/plain": [
       "HBox(children=(IntProgress(value=0, max=12), HTML(value='')))"
      ]
     },
     "metadata": {},
     "output_type": "display_data"
    },
    {
     "name": "stdout",
     "output_type": "stream",
     "text": [
      "Error with link: /recipe/19318\n",
      "\n"
     ]
    },
    {
     "data": {
      "application/vnd.jupyter.widget-view+json": {
       "model_id": "75316c67a72b4df89b9251846e882217",
       "version_major": 2,
       "version_minor": 0
      },
      "text/plain": [
       "HBox(children=(IntProgress(value=0, max=12), HTML(value='')))"
      ]
     },
     "metadata": {},
     "output_type": "display_data"
    },
    {
     "name": "stdout",
     "output_type": "stream",
     "text": [
      "Error with link: /recipe/19745\n",
      "\n"
     ]
    },
    {
     "data": {
      "application/vnd.jupyter.widget-view+json": {
       "model_id": "ce81a9d0be4f418b9c142d012ecf1831",
       "version_major": 2,
       "version_minor": 0
      },
      "text/plain": [
       "HBox(children=(IntProgress(value=0, max=12), HTML(value='')))"
      ]
     },
     "metadata": {},
     "output_type": "display_data"
    },
    {
     "name": "stdout",
     "output_type": "stream",
     "text": [
      "\n"
     ]
    },
    {
     "data": {
      "application/vnd.jupyter.widget-view+json": {
       "model_id": "8700b3045ac240d3a53f58fe2e2c8dc0",
       "version_major": 2,
       "version_minor": 0
      },
      "text/plain": [
       "HBox(children=(IntProgress(value=0, max=12), HTML(value='')))"
      ]
     },
     "metadata": {},
     "output_type": "display_data"
    },
    {
     "name": "stdout",
     "output_type": "stream",
     "text": [
      "\n",
      "Number of recipes added: 46\n"
     ]
    },
    {
     "data": {
      "application/vnd.jupyter.widget-view+json": {
       "model_id": "49456b06440a4047834b72b0bd5d746e",
       "version_major": 2,
       "version_minor": 0
      },
      "text/plain": [
       "HBox(children=(IntProgress(value=0, max=12), HTML(value='')))"
      ]
     },
     "metadata": {},
     "output_type": "display_data"
    },
    {
     "name": "stdout",
     "output_type": "stream",
     "text": [
      "Error with link: /recipe/18704\n",
      "\n"
     ]
    },
    {
     "data": {
      "application/vnd.jupyter.widget-view+json": {
       "model_id": "4fb1a8cb648e49b5855a85b00fffe227",
       "version_major": 2,
       "version_minor": 0
      },
      "text/plain": [
       "HBox(children=(IntProgress(value=0, max=12), HTML(value='')))"
      ]
     },
     "metadata": {},
     "output_type": "display_data"
    },
    {
     "name": "stdout",
     "output_type": "stream",
     "text": [
      "\n"
     ]
    },
    {
     "data": {
      "application/vnd.jupyter.widget-view+json": {
       "model_id": "15ae093d3d7f43f996ae1f26d6179967",
       "version_major": 2,
       "version_minor": 0
      },
      "text/plain": [
       "HBox(children=(IntProgress(value=0, max=12), HTML(value='')))"
      ]
     },
     "metadata": {},
     "output_type": "display_data"
    },
    {
     "name": "stdout",
     "output_type": "stream",
     "text": [
      "\n"
     ]
    },
    {
     "data": {
      "application/vnd.jupyter.widget-view+json": {
       "model_id": "1b1c7e4f57ec493cae353c248afbb3a4",
       "version_major": 2,
       "version_minor": 0
      },
      "text/plain": [
       "HBox(children=(IntProgress(value=0, max=12), HTML(value='')))"
      ]
     },
     "metadata": {},
     "output_type": "display_data"
    },
    {
     "name": "stdout",
     "output_type": "stream",
     "text": [
      "\n",
      "Number of recipes added: 47\n"
     ]
    },
    {
     "data": {
      "application/vnd.jupyter.widget-view+json": {
       "model_id": "c7b9fa96a9c6437692da2d2975398253",
       "version_major": 2,
       "version_minor": 0
      },
      "text/plain": [
       "HBox(children=(IntProgress(value=0, max=12), HTML(value='')))"
      ]
     },
     "metadata": {},
     "output_type": "display_data"
    },
    {
     "name": "stdout",
     "output_type": "stream",
     "text": [
      "Error with link: /recipe/18706\n",
      "\n"
     ]
    },
    {
     "data": {
      "application/vnd.jupyter.widget-view+json": {
       "model_id": "eea2f0d05e55497b8ad0d10657b7542f",
       "version_major": 2,
       "version_minor": 0
      },
      "text/plain": [
       "HBox(children=(IntProgress(value=0, max=12), HTML(value='')))"
      ]
     },
     "metadata": {},
     "output_type": "display_data"
    },
    {
     "name": "stdout",
     "output_type": "stream",
     "text": [
      "Error with link: /recipe/18692\n",
      "\n"
     ]
    },
    {
     "data": {
      "application/vnd.jupyter.widget-view+json": {
       "model_id": "d2a8e6f27d694e2fb5b3873baa953e9c",
       "version_major": 2,
       "version_minor": 0
      },
      "text/plain": [
       "HBox(children=(IntProgress(value=0, max=12), HTML(value='')))"
      ]
     },
     "metadata": {},
     "output_type": "display_data"
    },
    {
     "name": "stdout",
     "output_type": "stream",
     "text": [
      "\n"
     ]
    },
    {
     "data": {
      "application/vnd.jupyter.widget-view+json": {
       "model_id": "d23488b3c983438e8edfa94f91f5a86b",
       "version_major": 2,
       "version_minor": 0
      },
      "text/plain": [
       "HBox(children=(IntProgress(value=0, max=12), HTML(value='')))"
      ]
     },
     "metadata": {},
     "output_type": "display_data"
    },
    {
     "name": "stdout",
     "output_type": "stream",
     "text": [
      "Error with link: /recipe/19709\n",
      "\n",
      "Number of recipes added: 45\n"
     ]
    },
    {
     "data": {
      "application/vnd.jupyter.widget-view+json": {
       "model_id": "c957d310e6034cf9ab812687032a4e80",
       "version_major": 2,
       "version_minor": 0
      },
      "text/plain": [
       "HBox(children=(IntProgress(value=0, max=12), HTML(value='')))"
      ]
     },
     "metadata": {},
     "output_type": "display_data"
    },
    {
     "name": "stdout",
     "output_type": "stream",
     "text": [
      "Error with link: /recipe/19637\n",
      "Error with link: /recipe/18669\n",
      "\n"
     ]
    },
    {
     "data": {
      "application/vnd.jupyter.widget-view+json": {
       "model_id": "4b67ee6e146e44d5979489400bb5ee1d",
       "version_major": 2,
       "version_minor": 0
      },
      "text/plain": [
       "HBox(children=(IntProgress(value=0, max=12), HTML(value='')))"
      ]
     },
     "metadata": {},
     "output_type": "display_data"
    },
    {
     "name": "stdout",
     "output_type": "stream",
     "text": [
      "Error with link: /recipe/19979\n",
      "Error with link: /recipe/18703\n",
      "\n"
     ]
    },
    {
     "data": {
      "application/vnd.jupyter.widget-view+json": {
       "model_id": "9f8c8670e15f4857a88b648927470741",
       "version_major": 2,
       "version_minor": 0
      },
      "text/plain": [
       "HBox(children=(IntProgress(value=0, max=12), HTML(value='')))"
      ]
     },
     "metadata": {},
     "output_type": "display_data"
    },
    {
     "name": "stdout",
     "output_type": "stream",
     "text": [
      "Error with link: /recipe/18570\n",
      "\n"
     ]
    },
    {
     "data": {
      "application/vnd.jupyter.widget-view+json": {
       "model_id": "bd9cb54fe019455bb8946fe2d5789ab5",
       "version_major": 2,
       "version_minor": 0
      },
      "text/plain": [
       "HBox(children=(IntProgress(value=0, max=12), HTML(value='')))"
      ]
     },
     "metadata": {},
     "output_type": "display_data"
    },
    {
     "name": "stdout",
     "output_type": "stream",
     "text": [
      "\n",
      "Number of recipes added: 43\n"
     ]
    },
    {
     "data": {
      "application/vnd.jupyter.widget-view+json": {
       "model_id": "224733a934854a06b47f2b6de388cbe9",
       "version_major": 2,
       "version_minor": 0
      },
      "text/plain": [
       "HBox(children=(IntProgress(value=0, max=12), HTML(value='')))"
      ]
     },
     "metadata": {},
     "output_type": "display_data"
    },
    {
     "name": "stdout",
     "output_type": "stream",
     "text": [
      "\n"
     ]
    },
    {
     "data": {
      "application/vnd.jupyter.widget-view+json": {
       "model_id": "bf098d3077ab45bcb071e9dce3204395",
       "version_major": 2,
       "version_minor": 0
      },
      "text/plain": [
       "HBox(children=(IntProgress(value=0, max=12), HTML(value='')))"
      ]
     },
     "metadata": {},
     "output_type": "display_data"
    },
    {
     "name": "stdout",
     "output_type": "stream",
     "text": [
      "\n"
     ]
    },
    {
     "data": {
      "application/vnd.jupyter.widget-view+json": {
       "model_id": "5eef2367b9974b01b3952020b8aa30b4",
       "version_major": 2,
       "version_minor": 0
      },
      "text/plain": [
       "HBox(children=(IntProgress(value=0, max=12), HTML(value='')))"
      ]
     },
     "metadata": {},
     "output_type": "display_data"
    },
    {
     "name": "stdout",
     "output_type": "stream",
     "text": [
      "Error with link: /recipe/19987\n",
      "\n"
     ]
    },
    {
     "data": {
      "application/vnd.jupyter.widget-view+json": {
       "model_id": "bb376c07bb3b49ce9dbfb7559799dd0e",
       "version_major": 2,
       "version_minor": 0
      },
      "text/plain": [
       "HBox(children=(IntProgress(value=0, max=12), HTML(value='')))"
      ]
     },
     "metadata": {},
     "output_type": "display_data"
    },
    {
     "name": "stdout",
     "output_type": "stream",
     "text": [
      "\n",
      "Number of recipes added: 47\n"
     ]
    },
    {
     "data": {
      "application/vnd.jupyter.widget-view+json": {
       "model_id": "3e48625a03c34e149ce24e370c50abb1",
       "version_major": 2,
       "version_minor": 0
      },
      "text/plain": [
       "HBox(children=(IntProgress(value=0, max=12), HTML(value='')))"
      ]
     },
     "metadata": {},
     "output_type": "display_data"
    },
    {
     "name": "stdout",
     "output_type": "stream",
     "text": [
      "Error with link: /recipe/18601\n",
      "\n"
     ]
    },
    {
     "data": {
      "application/vnd.jupyter.widget-view+json": {
       "model_id": "b1be88d159f74d56bf5251e2aa831215",
       "version_major": 2,
       "version_minor": 0
      },
      "text/plain": [
       "HBox(children=(IntProgress(value=0, max=12), HTML(value='')))"
      ]
     },
     "metadata": {},
     "output_type": "display_data"
    },
    {
     "name": "stdout",
     "output_type": "stream",
     "text": [
      "\n"
     ]
    },
    {
     "data": {
      "application/vnd.jupyter.widget-view+json": {
       "model_id": "dfc2177873224c38bbac73bd9bac828c",
       "version_major": 2,
       "version_minor": 0
      },
      "text/plain": [
       "HBox(children=(IntProgress(value=0, max=12), HTML(value='')))"
      ]
     },
     "metadata": {},
     "output_type": "display_data"
    },
    {
     "name": "stdout",
     "output_type": "stream",
     "text": [
      "Error with link: /recipe/18597\n",
      "\n"
     ]
    },
    {
     "data": {
      "application/vnd.jupyter.widget-view+json": {
       "model_id": "6f914a0540d04368bc7ae0c61266ab8a",
       "version_major": 2,
       "version_minor": 0
      },
      "text/plain": [
       "HBox(children=(IntProgress(value=0, max=12), HTML(value='')))"
      ]
     },
     "metadata": {},
     "output_type": "display_data"
    },
    {
     "name": "stdout",
     "output_type": "stream",
     "text": [
      "\n",
      "Number of recipes added: 46\n"
     ]
    }
   ],
   "source": [
    "# Go in rounds of 10,000 as a time\n",
    "# Note first round went from 10000 to 10878\n",
    "# Starting round 30009 to get more variety\n",
    "# Cycle here for 120 iterations (changing the IP address every 12 iterations)\n",
    "\n",
    "num_iters = 48\n",
    "#links_to_pass, random_idx20 = clean_links_list(random_idx20, num_iters)\n",
    "for i in range(10):\n",
    "    bad_links.extend(get_recipes(links_to_pass, num_iters, db))\n",
    "    links_to_pass, random_idx20 = clean_links_list(random_idx20, num_iters)\n",
    "    \n",
    "    # write a file keeping track of the links that haven't been read and where the bad links are happening\n",
    "    try:\n",
    "        with open('download_trackers/links_tracker20.csv', 'w') as link_csv:\n",
    "            link_csv.write(str(random_idx20))\n",
    "        with open('download_trackers/bad_links20.csv', 'a') as bad_links_csv:\n",
    "            bad_links_csv.write(str(bad_links))\n",
    "    except:\n",
    "        print(\"Error writing files\")"
   ]
  },
  {
   "cell_type": "code",
   "execution_count": 23,
   "metadata": {},
   "outputs": [
    {
     "data": {
      "text/plain": [
       "12"
      ]
     },
     "execution_count": 23,
     "metadata": {},
     "output_type": "execute_result"
    }
   ],
   "source": [
    "len(links_to_pass)"
   ]
  },
  {
   "cell_type": "code",
   "execution_count": 18,
   "metadata": {},
   "outputs": [
    {
     "data": {
      "text/plain": [
       "['19596', '19442']"
      ]
     },
     "execution_count": 18,
     "metadata": {},
     "output_type": "execute_result"
    }
   ],
   "source": [
    "bad_links"
   ]
  },
  {
   "cell_type": "code",
   "execution_count": null,
   "metadata": {},
   "outputs": [],
   "source": []
  },
  {
   "cell_type": "code",
   "execution_count": 218,
   "metadata": {},
   "outputs": [
    {
     "data": {
      "text/plain": [
       "(3663, 99)"
      ]
     },
     "execution_count": 218,
     "metadata": {},
     "output_type": "execute_result"
    }
   ],
   "source": [
    "start_idx"
   ]
  },
  {
   "cell_type": "code",
   "execution_count": 217,
   "metadata": {},
   "outputs": [
    {
     "name": "stdout",
     "output_type": "stream",
     "text": [
      "{'A', 'C', 'B'}\n"
     ]
    }
   ],
   "source": [
    "testlist = [\"A\", \"A\", \"B\", \"B\", \"C\"]\n",
    "len(testlist) - len(set(testlist))\n",
    "print(set(testlist))"
   ]
  },
  {
   "cell_type": "code",
   "execution_count": 188,
   "metadata": {},
   "outputs": [],
   "source": [
    "recipe_df = np.transpose(pd.DataFrame(recipe_dict))\n",
    "recipe_df.reset_index(inplace = True)\n",
    "recipe_df.rename(columns={\"index\":\"Recipe_name\", \"Cooking time\":\"Cooking_time\", \"Prep time\":\"Prep_time\"}, inplace = True)"
   ]
  },
  {
   "cell_type": "code",
   "execution_count": 189,
   "metadata": {
    "scrolled": true
   },
   "outputs": [
    {
     "data": {
      "text/html": [
       "<div>\n",
       "<style scoped>\n",
       "    .dataframe tbody tr th:only-of-type {\n",
       "        vertical-align: middle;\n",
       "    }\n",
       "\n",
       "    .dataframe tbody tr th {\n",
       "        vertical-align: top;\n",
       "    }\n",
       "\n",
       "    .dataframe thead th {\n",
       "        text-align: right;\n",
       "    }\n",
       "</style>\n",
       "<table border=\"1\" class=\"dataframe\">\n",
       "  <thead>\n",
       "    <tr style=\"text-align: right;\">\n",
       "      <th></th>\n",
       "      <th>Recipe_name</th>\n",
       "      <th>Category</th>\n",
       "      <th>Cooking_time</th>\n",
       "      <th>Ingredients</th>\n",
       "      <th>Method</th>\n",
       "      <th>Prep_time</th>\n",
       "      <th>Rating</th>\n",
       "    </tr>\n",
       "  </thead>\n",
       "  <tbody>\n",
       "    <tr>\n",
       "      <th>0</th>\n",
       "      <td>Kimchi Fried Rice with Frizzled Eggs Recipe</td>\n",
       "      <td>[Trusted Brands: Recipes and Tips, UNCLE BEN'S®]</td>\n",
       "      <td>PT15M</td>\n",
       "      <td>[(1 1/2 tablespoons, toasted sesame oil), (1 c...</td>\n",
       "      <td>[Heat 1 1/2 tablespoons sesame oil in a large ...</td>\n",
       "      <td>PT15M</td>\n",
       "      <td>5</td>\n",
       "    </tr>\n",
       "    <tr>\n",
       "      <th>1</th>\n",
       "      <td>Mexican Taco Meatloaf  Recipe</td>\n",
       "      <td>[World Cuisine, Latin American, Mexican]</td>\n",
       "      <td>PT45M</td>\n",
       "      <td>[(1 1/2 pounds, lean ground beef), (1 cup, cru...</td>\n",
       "      <td>[Preheat the oven to 350 degrees F (175 degree...</td>\n",
       "      <td>PT15M</td>\n",
       "      <td>4.55</td>\n",
       "    </tr>\n",
       "    <tr>\n",
       "      <th>2</th>\n",
       "      <td>Best Chocolate Chip Cookies</td>\n",
       "      <td>[Desserts, Cookies, Drop Cookies]</td>\n",
       "      <td>[PT10M]</td>\n",
       "      <td>[(1 cup, butter, softened), (1 cup, white suga...</td>\n",
       "      <td>[Preheat oven to 350 degrees F (175 degrees C)...</td>\n",
       "      <td>[PT20M]</td>\n",
       "      <td>4.61</td>\n",
       "    </tr>\n",
       "    <tr>\n",
       "      <th>3</th>\n",
       "      <td>Brown Sugar Banana Bread Recipe</td>\n",
       "      <td>[Breakfast and Brunch, Breakfast Bread]</td>\n",
       "      <td>PT40M</td>\n",
       "      <td>[(4 ripe, bananas, cut into chunks), (1 1/4 cu...</td>\n",
       "      <td>[Preheat oven to 350 degrees F (175 degrees C)...</td>\n",
       "      <td>PT15M</td>\n",
       "      <td>4.49</td>\n",
       "    </tr>\n",
       "    <tr>\n",
       "      <th>4</th>\n",
       "      <td>Janet's Rich Banana Bread Recipe</td>\n",
       "      <td>[Bread, Quick Bread, Fruit Bread, Banana Bread...</td>\n",
       "      <td>PT1H</td>\n",
       "      <td>[(1/2 cup, butter, melted), (1 cup, white suga...</td>\n",
       "      <td>[Preheat oven to 350 degrees F (175 degrees C)...</td>\n",
       "      <td>PT10M</td>\n",
       "      <td>4.82</td>\n",
       "    </tr>\n",
       "  </tbody>\n",
       "</table>\n",
       "</div>"
      ],
      "text/plain": [
       "                                   Recipe_name  \\\n",
       "0  Kimchi Fried Rice with Frizzled Eggs Recipe   \n",
       "1                Mexican Taco Meatloaf  Recipe   \n",
       "2                  Best Chocolate Chip Cookies   \n",
       "3              Brown Sugar Banana Bread Recipe   \n",
       "4             Janet's Rich Banana Bread Recipe   \n",
       "\n",
       "                                            Category Cooking_time  \\\n",
       "0   [Trusted Brands: Recipes and Tips, UNCLE BEN'S®]        PT15M   \n",
       "1           [World Cuisine, Latin American, Mexican]        PT45M   \n",
       "2                  [Desserts, Cookies, Drop Cookies]      [PT10M]   \n",
       "3            [Breakfast and Brunch, Breakfast Bread]        PT40M   \n",
       "4  [Bread, Quick Bread, Fruit Bread, Banana Bread...         PT1H   \n",
       "\n",
       "                                         Ingredients  \\\n",
       "0  [(1 1/2 tablespoons, toasted sesame oil), (1 c...   \n",
       "1  [(1 1/2 pounds, lean ground beef), (1 cup, cru...   \n",
       "2  [(1 cup, butter, softened), (1 cup, white suga...   \n",
       "3  [(4 ripe, bananas, cut into chunks), (1 1/4 cu...   \n",
       "4  [(1/2 cup, butter, melted), (1 cup, white suga...   \n",
       "\n",
       "                                              Method Prep_time Rating  \n",
       "0  [Heat 1 1/2 tablespoons sesame oil in a large ...     PT15M      5  \n",
       "1  [Preheat the oven to 350 degrees F (175 degree...     PT15M   4.55  \n",
       "2  [Preheat oven to 350 degrees F (175 degrees C)...   [PT20M]   4.61  \n",
       "3  [Preheat oven to 350 degrees F (175 degrees C)...     PT15M   4.49  \n",
       "4  [Preheat oven to 350 degrees F (175 degrees C)...     PT10M   4.82  "
      ]
     },
     "execution_count": 189,
     "metadata": {},
     "output_type": "execute_result"
    }
   ],
   "source": [
    "recipe_df.head()"
   ]
  },
  {
   "cell_type": "markdown",
   "metadata": {},
   "source": [
    "## Database\n",
    "Create the database and place the recipes into the database for storage"
   ]
  },
  {
   "cell_type": "code",
   "execution_count": 5,
   "metadata": {},
   "outputs": [],
   "source": []
  },
  {
   "cell_type": "code",
   "execution_count": 6,
   "metadata": {},
   "outputs": [],
   "source": []
  },
  {
   "cell_type": "code",
   "execution_count": 169,
   "metadata": {},
   "outputs": [],
   "source": [
    "# Quick clear of the DB for testing purposes\n",
    "#with db.connect() as conn:\n",
    "#    conn.execute(\"TRUNCATE TABLE recipes\")"
   ]
  },
  {
   "cell_type": "code",
   "execution_count": 198,
   "metadata": {},
   "outputs": [
    {
     "data": {
      "text/plain": [
       "97"
      ]
     },
     "execution_count": 198,
     "metadata": {},
     "output_type": "execute_result"
    }
   ],
   "source": [
    "recipe_df.shape[0]"
   ]
  },
  {
   "cell_type": "code",
   "execution_count": 192,
   "metadata": {},
   "outputs": [],
   "source": []
  },
  {
   "cell_type": "code",
   "execution_count": 37,
   "metadata": {},
   "outputs": [],
   "source": []
  },
  {
   "cell_type": "code",
   "execution_count": null,
   "metadata": {},
   "outputs": [],
   "source": []
  },
  {
   "cell_type": "code",
   "execution_count": 27,
   "metadata": {},
   "outputs": [
    {
     "data": {
      "text/plain": [
       "2356"
      ]
     },
     "execution_count": 27,
     "metadata": {},
     "output_type": "execute_result"
    }
   ],
   "source": [
    "with db.connect() as conn:\n",
    "    #test = conn.execute(\"SELECT * FROM recipes WHERE category LIKE '%%mexican%%'\").fetchall()\n",
    "    test2 = list(conn.execute(\"SELECT (recipe_name) FROM recipes\").fetchall())\n",
    "    \n",
    "#for item in test2:\n",
    "#    print(item[0])\n",
    "itemlen = [item[0] for item in test2]\n",
    "len(itemlen)\n",
    "#itemlen"
   ]
  },
  {
   "cell_type": "code",
   "execution_count": 84,
   "metadata": {},
   "outputs": [
    {
     "name": "stdout",
     "output_type": "stream",
     "text": [
      "836\n"
     ]
    }
   ],
   "source": [
    "with db.connect() as conn:\n",
    "    test = conn.execute(\"SELECT * FROM recipes WHERE ingredients LIKE '%%sugar%%'\").fetchall()\n",
    "\n",
    "print(len(test))"
   ]
  },
  {
   "cell_type": "code",
   "execution_count": 22,
   "metadata": {},
   "outputs": [],
   "source": [
    "## Code here is for testing any scraping methods\n",
    "response = requests.get(\"https://www.allrecipes.com\"+str(links[5]))\n",
    "soup = BeautifulSoup(response.text, \"html.parser\")"
   ]
  },
  {
   "cell_type": "code",
   "execution_count": 23,
   "metadata": {},
   "outputs": [
    {
     "name": "stdout",
     "output_type": "stream",
     "text": [
      "6\n"
     ]
    },
    {
     "data": {
      "text/plain": [
       "['Preheat the oven to 350 degrees F (175 degrees C). Brush the inside of a fluted tube pan with 1 tablespoon melted butter.',\n",
       " 'Mix sugar, cinnamon, and nutmeg in a bowl. Combine 1/4 cup of the spiced sugar mixture with minced apples and stir until coated.',\n",
       " 'Separate cinnamon roll dough rounds and cut into quarters. Set aside the icing.',\n",
       " 'Spoon 1/2 of the apple mixture and 1/2 of the walnuts into the bottom of the prepared pan. Roll 1/2 of the cinnamon roll quarters in the remaining spiced sugar and place on top of the apples and walnuts. Spoon 1/2 of the remaining butter over dough. Repeat with remaining apples, walnuts, dough, and butter.',\n",
       " 'Bake in the preheated oven until golden brown, about 45 minutes. Let bread cool in the pan for 10 minutes, then invert onto a plate. Cool for 5 more minutes before coating with icing.',\n",
       " '']"
      ]
     },
     "execution_count": 23,
     "metadata": {},
     "output_type": "execute_result"
    }
   ],
   "source": [
    "method_list = []\n",
    "methods = soup.find_all(\"span\",class_=\"recipe-directions__list--item\")\n",
    "print(len(methods))\n",
    "if len(methods) == 0:\n",
    "    methods = soup.find_all(\"div\", class_=\"section-body\")\n",
    "for method in methods:\n",
    "    method = method.getText().strip()\n",
    "    if len(re.findall(\"[0-9]* calories\", method)) == 0:\n",
    "           method_list.append(method)\n",
    "method_list\n"
   ]
  },
  {
   "cell_type": "code",
   "execution_count": 104,
   "metadata": {},
   "outputs": [
    {
     "data": {
      "text/plain": [
       "' I had a dream '"
      ]
     },
     "execution_count": 104,
     "metadata": {},
     "output_type": "execute_result"
    }
   ],
   "source": []
  },
  {
   "cell_type": "code",
   "execution_count": 106,
   "metadata": {},
   "outputs": [
    {
     "data": {
      "text/plain": [
       "([1, 3, 5, 6, 7, 8, 9], [4, 2])"
      ]
     },
     "execution_count": 106,
     "metadata": {},
     "output_type": "execute_result"
    }
   ],
   "source": [
    "A = np.arange(1,10).tolist()\n",
    "B = random.sample(A,2)\n",
    "for item in B:\n",
    "    A.remove(item)\n",
    "A, B"
   ]
  },
  {
   "cell_type": "code",
   "execution_count": 104,
   "metadata": {},
   "outputs": [
    {
     "name": "stdout",
     "output_type": "stream",
     "text": [
      "0\n"
     ]
    }
   ],
   "source": [
    "counter = 0\n",
    "for i in range(1000):\n",
    "    A = random.sample(np.arange(1,10).tolist(), 2)\n",
    "    if A[0] == A[1]:\n",
    "        counter+=1\n",
    "print(counter)"
   ]
  },
  {
   "cell_type": "code",
   "execution_count": null,
   "metadata": {},
   "outputs": [],
   "source": []
  }
 ],
 "metadata": {
  "kernelspec": {
   "display_name": "venv",
   "language": "python",
   "name": "venv"
  },
  "language_info": {
   "codemirror_mode": {
    "name": "ipython",
    "version": 3
   },
   "file_extension": ".py",
   "mimetype": "text/x-python",
   "name": "python",
   "nbconvert_exporter": "python",
   "pygments_lexer": "ipython3",
   "version": "3.7.3"
  }
 },
 "nbformat": 4,
 "nbformat_minor": 2
}
