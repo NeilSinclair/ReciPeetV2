{
 "cells": [
  {
   "cell_type": "code",
   "execution_count": 18,
   "metadata": {},
   "outputs": [],
   "source": [
    "# This is the notebook for ReciPete, the recipe-finding chatbot\n",
    "import re\n",
    "import numpy\n",
    "import sqlalchemy\n",
    "import spacy\n",
    "import csv\n",
    "import numpy as np\n",
    "\n",
    "from nltk.tokenize import word_tokenize"
   ]
  },
  {
   "cell_type": "code",
   "execution_count": 312,
   "metadata": {},
   "outputs": [],
   "source": [
    "# Set up spacy nlp object\n",
    "nlp = spacy.load(\"en_core_web_sm\")\n",
    "words_to_remove = [\"and\", \"then\", \"with\", \"in\", \"of\", \"but\", \"for\", \"or\"]"
   ]
  },
  {
   "cell_type": "code",
   "execution_count": 129,
   "metadata": {},
   "outputs": [],
   "source": [
    "# Create the database object to connect\n",
    "db_name = 'recipesdb'\n",
    "db_host = 'localhost'\n",
    "db_user = 'NeilSinclair'\n",
    "db_pass = 'Passw0rd!'\n",
    "db = sqlalchemy.create_engine('mysql+pymysql://{}:{}@{}/{}'.format(db_user, db_pass, db_host, db_name))"
   ]
  },
  {
   "cell_type": "code",
   "execution_count": 307,
   "metadata": {},
   "outputs": [],
   "source": [
    "#intro_text = \"Hi, I'm ReciPete and I'm here to help you find the perfect thing to eat\"\n",
    "with db.connect() as conn:\n",
    "    ing = conn.execute(\"SELECT (ingredients) FROM recipes\").fetchall()\n",
    "\n",
    "INGREDIENTS = []\n",
    "for item in ing:\n",
    "    temp_ = re.sub('[\\(\\)\\'\\\\\\]', \"\", str(item)).split(',')[1]\n",
    "    temp_ = re.sub('[\\-\\\"]', '', temp_).strip()\n",
    "    if len(temp_) > 0:\n",
    "        INGREDIENTS.append(temp_)\n",
    "\n",
    "INGREDIENTS = list(set(INGREDIENTS))\n",
    "\n",
    "#simplified_ingredients = lambda INGREDIENTS: [item for sublist in INGREDIENTS for item in INGREDIENTS]\n",
    "SIMP_ING = []\n",
    "for item in [item.split(' ') for item in INGREDIENTS]:\n",
    "    for sub in item:\n",
    "        if sub not in words_to_remove:\n",
    "            SIMP_ING.append(sub)\n",
    "SIMP_ING = list(set(SIMP_ING))\n",
    "#print(SIMP_ING)"
   ]
  },
  {
   "cell_type": "code",
   "execution_count": 308,
   "metadata": {},
   "outputs": [],
   "source": [
    "with db.connect() as conn:\n",
    "    ing = conn.execute(\"SELECT (category) FROM recipes\").fetchall()\n",
    "   \n",
    "    \n",
    "CATEGORY = []\n",
    "for item in ing:\n",
    "    temp_ = re.sub('[\\(\\)\\'\\\\\\]', \"\", str(item))\n",
    "    temp_ = re.sub('[\\-\\\"]', '', temp_).strip()\n",
    "    if len(temp_) > 0:\n",
    "        CATEGORY.append(temp_)\n",
    "\n",
    "CATEGORY = list(set(CATEGORY))\n",
    "\n",
    "SIMP_CAT = []\n",
    "for item in [item.split(' ') for item in CATEGORY]:\n",
    "    for sub in item:\n",
    "        if sub not in words_to_remove:\n",
    "            SIMP_CAT.append(sub)\n",
    "SIMP_CAT = list(set(SIMP_CAT))\n",
    "#print(SIMP_CAT)"
   ]
  },
  {
   "cell_type": "code",
   "execution_count": null,
   "metadata": {},
   "outputs": [],
   "source": []
  },
  {
   "cell_type": "code",
   "execution_count": null,
   "metadata": {},
   "outputs": [],
   "source": [
    "def parse_request(message):\n",
    "    # Function that parses what the user wants to eat\n",
    "    # Example message  - \"I'd like something with green peppers\" - \"I want mexican\"\n",
    "    return 0"
   ]
  },
  {
   "cell_type": "code",
   "execution_count": 51,
   "metadata": {},
   "outputs": [
    {
     "data": {
      "text/plain": [
       "['sweet', 'potatoes', 'and', '10', 'tomotoes']"
      ]
     },
     "execution_count": 51,
     "metadata": {},
     "output_type": "execute_result"
    }
   ],
   "source": [
    "test_msg1 = \"I'd like something with green peppers in it\"\n",
    "test_msg2 = \"I feel like mexican tonight\"\n",
    "test_msg3 = \"I don't want to eat pasta! Nor pizza, apples, pies - or even meat\"\n",
    "test_msg4 = \"sweet potatoes and 10 tomotoes\"\n",
    "\n",
    "doc1 = nlp(test_msg1)\n",
    "doc2 = nlp(test_msg2)\n",
    "word_tokenize(test_msg4)"
   ]
  },
  {
   "cell_type": "code",
   "execution_count": null,
   "metadata": {},
   "outputs": [],
   "source": []
  },
  {
   "cell_type": "code",
   "execution_count": 124,
   "metadata": {},
   "outputs": [],
   "source": [
    "message = \"I want something with peppers and cheese, but I don't want mushrooms or anchovies\"\n",
    "message2 = \"I want something that cooks quickly, but without salt and \"\n",
    "ingredients = [\"peppers\", \"cheese\", \"feta cheese\", \"apples\", \"potatoes\", \"sweet potatoes\", \"anchovies\", \"mushrooms\"]\n",
    "food_categories = [\"asian\", \"african\", \"carribean\"]\n",
    "negative_sentiment = [\"dont\", \"not\", \"without\", \"hate\", \"dislike\", \"cant\", \"wont\", \"without\"]"
   ]
  },
  {
   "cell_type": "code",
   "execution_count": 125,
   "metadata": {
    "scrolled": true
   },
   "outputs": [
    {
     "name": "stdout",
     "output_type": "stream",
     "text": [
      "{'peppers': 'postive', 'cheese': 'postive', 'mushrooms': 'negative', 'anchovies': 'negative'}\n"
     ]
    }
   ],
   "source": [
    "def parse_pos_neg(message, ingredients, neg_sentiment):\n",
    "    # Function that takes a message and returns a dictionary of positive and negative elements\n",
    "    # Parameters - message - the user's message\n",
    "    #            - ingredients - the ingredients and categories identified in the message\n",
    "    #            - neg_sentiment - a list with words indicating negative sentiment\n",
    "    # Find the first entity (ingredient) and find whether it's positive or not\n",
    "    tokens = message.split(' ')\n",
    "    tokens = [re.sub('[,!\\-\\']', '', token.lower()) for token in tokens]\n",
    "    \n",
    "    # Take each ingredient token and find it's place in the sentence\n",
    "    ingredient_tracker = {}\n",
    "    for n in range(len(tokens)):\n",
    "        if tokens[n] in ingredients:\n",
    "            ingredient_tracker[tokens[n]] = n\n",
    "     \n",
    "    # Find the sentiment\n",
    "    ingredient_sentiment = {}\n",
    "    previous_sentiment = None\n",
    "    last_ingr = 0\n",
    "    conjunctions = [\"and\", \"or\", \"either\", \"nor\"]\n",
    "    \n",
    "    for key, val in ingredient_tracker.items():\n",
    "        obj_sentiment = tokens[last_ingr:val+1]\n",
    "        \n",
    "        # First check if the first word in the object_sentiment string is a conjuction as that would indicate that it has\n",
    "        # the same sentiment as the previous ingredient\n",
    "        if obj_sentiment[0] in conjunctions:\n",
    "            ingredient_sentiment[key] = previous_sentiment\n",
    "        \n",
    "        elif any(item in obj_sentiment for item in neg_sentiment):\n",
    "            ingredient_sentiment[key] = \"negative\"\n",
    "            previous_sentiment = \"negative\"\n",
    "        else:\n",
    "            ingredient_sentiment[key] = \"postive\"       \n",
    "            previous_sentiment = \"postive\"\n",
    "        last_ingr = val+1\n",
    "             \n",
    "    return ingredient_sentiment\n",
    "\n",
    "print(parse_pos_neg(message, ingredients, negative_sentiment))\n"
   ]
  },
  {
   "cell_type": "code",
   "execution_count": 309,
   "metadata": {},
   "outputs": [],
   "source": [
    "def take_action(message):\n",
    "    # Function that takes in a message, parses it for positives and negatives and takes action\n",
    "    # Returns - the action requested by the user\n",
    "    \n",
    "    # Extract the ingredients and/or categories from the message, with SIMP_ING and SIMP_CAT as global lists\n",
    "    tokens = message.split(' ')\n",
    "    tokens = [re.sub('[,!\\-\\']', '', token.lower()) for token in tokens]\n",
    "    ingredients = [token for token in tokens if token in SIMP_ING]\n",
    "    \n",
    "    return ingredients"
   ]
  },
  {
   "cell_type": "code",
   "execution_count": 311,
   "metadata": {},
   "outputs": [
    {
     "name": "stdout",
     "output_type": "stream",
     "text": [
      "['potatoes', 'beef', 'or', 'pork']\n"
     ]
    }
   ],
   "source": [
    "a = take_action(\"I want something with potatoes and beef but not anchovies or pork\")\n",
    "print(a)"
   ]
  },
  {
   "cell_type": "code",
   "execution_count": null,
   "metadata": {},
   "outputs": [],
   "source": []
  }
 ],
 "metadata": {
  "kernelspec": {
   "display_name": "venv",
   "language": "python",
   "name": "venv"
  },
  "language_info": {
   "codemirror_mode": {
    "name": "ipython",
    "version": 3
   },
   "file_extension": ".py",
   "mimetype": "text/x-python",
   "name": "python",
   "nbconvert_exporter": "python",
   "pygments_lexer": "ipython3",
   "version": "3.7.3"
  }
 },
 "nbformat": 4,
 "nbformat_minor": 2
}
