{
 "cells": [
  {
   "cell_type": "code",
   "execution_count": 3,
   "metadata": {},
   "outputs": [],
   "source": [
    "# ALlrecipes.com scraper\n",
    "import numpy as np\n",
    "from bs4 import BeautifulSoup\n",
    "import requests\n",
    "import urllib.request\n",
    "from urllib.request import Request, urlopen\n",
    "import re\n",
    "import pandas as pd\n",
    "# Libraries to track the scraping\n",
    "import time\n",
    "from tqdm import tqdm_notebook\n",
    "import random\n",
    "import socks\n",
    "import socket\n",
    "import torpy"
   ]
  },
  {
   "cell_type": "code",
   "execution_count": 2,
   "metadata": {},
   "outputs": [],
   "source": [
    "from torpy.http.requests import TorRequests"
   ]
  },
  {
   "cell_type": "code",
   "execution_count": 227,
   "metadata": {},
   "outputs": [
    {
     "name": "stdout",
     "output_type": "stream",
     "text": [
      "{\n",
      "  \"origin\": \"51.68.201.119\"\n",
      "}\n",
      "\n"
     ]
    }
   ],
   "source": [
    "session = requests.session()\n",
    "session.proxies = {'http': 'socks5://localhost:9150',\n",
    "                   'https': 'socks5://localhost:9150'}\n",
    "r = session.get('http://httpbin.org/ip')\n",
    "print(r.text)"
   ]
  },
  {
   "cell_type": "code",
   "execution_count": 46,
   "metadata": {},
   "outputs": [],
   "source": [
    "# Set the pattern for finding the links for the pages; use this to find the links as they're stored in text on the page\n",
    "url_pattern = re.compile('detailUrl\":\"(/recipe/[0-9]+/[a-z-]*/)')\n",
    "def get_links(url):\n",
    "    response = requests.get(url)\n",
    "    page_urls = re.findall(url_pattern, response.text)\n",
    "    return page_urls\n",
    "\n",
    "def collect_data(link):\n",
    "    # Function that scrapes the relevant data from the page\n",
    "    # Parameter - link - a link to a recipe, passed one at time\n",
    "    # Returns   - a dictionary {name: {rating: *, category: cats, ingredients: [], method: [], prep: #, cook: #}}\n",
    "    \n",
    "    url = \"https://www.allrecipes.com\" + str(link)\n",
    "    response = requests.get(url)\n",
    "    soup = BeautifulSoup(response.text, \"html.parser\")\n",
    "    \n",
    "    recipe_dict = {}\n",
    "    \n",
    "    # Get title\n",
    "    title = soup.find_all(\"meta\",attrs = {\"property\":\"og:title\"})\n",
    "    title = re.findall('=\"(.*)\" ', str(title))[0]\n",
    "    \n",
    "    # Get food categories / hierarchy\n",
    "    category_list = []\n",
    "    categories = soup.find_all(\"span\", class_=\"toggle-similar__title\")\n",
    "    if len(categories) == 0:\n",
    "        categories = soup.find_all(\"span\", class_=\"breadcrumbs__title\")\n",
    "\n",
    "    for cat in categories:\n",
    "        cat = re.sub(\"\\n\", \"\", cat.getText()).strip()\n",
    "        if cat in [\"Home\", \"Recipes\"]:\n",
    "            continue\n",
    "        category_list.append(cat)\n",
    "   \n",
    "    \n",
    "    # Get rating\n",
    "    rating_data = soup.find_all(\"meta\",attrs = {\"property\":\"og:rating\"})\n",
    "    if len(rating_data) == 0:\n",
    "        rating_data = soup.find_all(\"meta\",attrs = {\"name\":\"og:rating\"})\n",
    "    rating = re.findall('content=\"([0-9][.]*[0-9]{0,2})',str(rating_data))[0]\n",
    "    \n",
    "    # Get ingredients\n",
    "    ingredient_list = []\n",
    "    ingredients = soup.find_all(\"span\",class_=\"recipe-ingred_txt added\")\n",
    "    if len(ingredients) == 0:\n",
    "        ingredients = soup.find_all(\"span\",class_=\"ingredients-item-name\")\n",
    "    \n",
    "    for ingredient in ingredients:\n",
    "        ingredient_list.append(split_quantity_ingredients(ingredient.getText().strip()))\n",
    "    \n",
    "    # Get cooking method\n",
    "    cooking_method_list = []\n",
    "    cooking_method = soup.find_all(\"span\",class_=\"recipe-directions__list--item\")\n",
    "    if len(cooking_method) == 0:\n",
    "        cooking_method = soup.find_all(\"div\", class_=\"section-body\")\n",
    "    for method in cooking_method:\n",
    "        method = re.sub(\"\\n\",\"\",method.getText()).strip()\n",
    "        if len(re.findall(\"[0-9]* calories\", method)) == 0 and len(method) > 0:\n",
    "            cooking_method_list.append(method)\n",
    "\n",
    "    # Get prep and cook times\n",
    "    cooktimes = soup.find_all(\"time\")\n",
    "    if len(cooktimes) == 0:\n",
    "        prep = re.findall('prepTime\": \"(PT[0-9]*[A-Z])',response.text)\n",
    "        cook = re.findall('cookTime\": \"(PT[0-9]*[A-Z])',response.text)\n",
    "    else:\n",
    "        cooktimes = re.findall('datetime=\"(PT[0-9]*[A-Z])', str(cooktimes))\n",
    "        prep = cooktimes[0]\n",
    "        cook = cooktimes[1]\n",
    "    \n",
    "    # Create and returnt the dictionary\n",
    "    recipe_dict[title] = {\"Rating\":rating,\n",
    "                          \"Category\": category_list,\n",
    "                          \"Ingredients\": ingredient_list,\n",
    "                          \"Method\": cooking_method_list,\n",
    "                          \"Prep time\": prep,\n",
    "                          \"Cooking time\": cook}\n",
    "    \n",
    "    return recipe_dict\n",
    "\n",
    "def split_quantity_ingredients(ingredient):\n",
    "    # Function that splits the ingredient items from their quantity so the two can be stored separately\n",
    "    # Parameters - ingredient: a single ingredient like \"1 tablespoon beetroot juice\"\n",
    "    # Returns    - two lists, ingredients and quantity\n",
    "    \n",
    "    # Remove stuff in brackets (it doesn't add value) and remove doubles spaces\n",
    "    ingredient = re.sub(\" \\(.*\\)\", \"\", ingredient)\n",
    "    ingredient = re.sub(\"  \", \" \", ingredient) \n",
    "    \n",
    "    # Test to see how long the ingredients item so that items like \"2 eggs\" get split into two items\n",
    "    # If it's only two items, assume the first is the quantity\n",
    "    if len(ingredient.split(' ')) <= 2 or ingredient.split(' ')[1][-1] == \",\":\n",
    "        ingredient = ingredient.split(' ')\n",
    "        if re.search('[0-9]',ingredient[0]) is None:\n",
    "            item = ' '.join(ingredient)\n",
    "            quantity = 0\n",
    "        else:\n",
    "            quantity = ingredient[0]\n",
    "            item = ' '.join(ingredient[1:])\n",
    "    \n",
    "    elif len(ingredient.split(' ')) > 2: \n",
    "        # Check for those unicode 1/2, 1/4, 1/8 etc... and replace with a number\n",
    "        if ord(ingredient[0]) in [189, 8531, 188, 8532, 8533, 190, 8533, 8539]:\n",
    "            unicode_dict = {188: \"1/4\", 189: \"1/2\", 8531: \"1/3\", 8532: \"2/3\", 190: \"3/4\", 8533: \"1/5\",\n",
    "                            8529: \"1/8\"}\n",
    "            ingredient = unicode_dict.get(ord(ingredient[0])) + ingredient[1:]\n",
    "        \n",
    "        # Check if the unicodes occur in the 3rd place in the string - e.g. 1 1/2\n",
    "        if ord(ingredient[2]) in [189, 8531, 188, 8532, 8533, 190, 8533, 8539]:\n",
    "            unicode_dict = {188: \"1/4\", 189: \"1/2\", 8531: \"1/3\", 8532: \"2/3\", 190: \"3/4\", 8533: \"1/5\",\n",
    "                            8529: \"1/8\"}\n",
    "            ingredient = ingredient[0:2] + unicode_dict.get(ord(ingredient[2])) + ingredient[3:]\n",
    "        \n",
    "        # Create the patterns for getting the quantities followed by the ingredients\n",
    "        quantity_pattern = re.compile(\"([0-9] *[0-9]*[.]*/*-*[0-9]*/*[0-9]* \\w+)\")\n",
    "        quantity = re.findall(quantity_pattern, ingredient)\n",
    "        \n",
    "        if len(quantity) > 0:\n",
    "        # The ingredient follows after the quantity, so look there for it\n",
    "            ingredient_pattern = re.compile(str(quantity[-1]+\" (.*)\"))\n",
    "            quantity = '/'.join(quantity)\n",
    "            item = ingredient_pattern.search(ingredient)\n",
    "            if item is not None:\n",
    "                item = item[1]\n",
    "            else:\n",
    "                item = \"\"\n",
    "        else:\n",
    "            quantity = \"\"\n",
    "            item = ingredient\n",
    "\n",
    "    \n",
    "    return quantity, item\n",
    "    \n",
    "    "
   ]
  },
  {
   "cell_type": "code",
   "execution_count": 174,
   "metadata": {},
   "outputs": [],
   "source": [
    "\n",
    "base_url = \"https://www.allrecipes.com/?page=\"\n",
    "links = []\n",
    "for i in tqdm_notebook(range(2,40)):\n",
    "    scrape_url = base_url + str(i)\n",
    "    links.extend(get_links(scrape_url))\n",
    "#links\n"
   ]
  },
  {
   "cell_type": "code",
   "execution_count": 182,
   "metadata": {},
   "outputs": [
    {
     "data": {
      "text/plain": [
       "['/recipe/269732/mexican-taco-meatloaf/',\n",
       " '/recipe/10813/best-chocolate-chip-cookies/']"
      ]
     },
     "execution_count": 182,
     "metadata": {},
     "output_type": "execute_result"
    }
   ],
   "source": [
    "links[1:3]"
   ]
  },
  {
   "cell_type": "code",
   "execution_count": 186,
   "metadata": {},
   "outputs": [],
   "source": [
    "import csv\n",
    "with open(\"links.csv\", 'w') as links_file:\n",
    "    links_writer = csv.writer(links_file)\n",
    "    links_writer.writerow(links)"
   ]
  },
  {
   "cell_type": "code",
   "execution_count": 205,
   "metadata": {},
   "outputs": [],
   "source": [
    "# Future process for scraping pages\n",
    "# Download links from pages and store in a file\n",
    "# Access\n",
    "#recipe_dict = {}\n",
    "def get_recipes(links, start_idx, iters, db):\n",
    "    # Simple function that loads #iters recipes at once and then loads these into the database\n",
    "    # Parameters:  links       - All of the links currently scraped\n",
    "    #              start_idx   - Index to in the links list to start scraping from\n",
    "    #              iters       - The number of pages loaded at once\n",
    "    #              db          - the sqlalchemy db engine\n",
    "    # Returns:     Position in the links list of the last page scraped\n",
    "    \n",
    "    recipe_dict = {}    \n",
    "    # To prevent the IP address from getting b\n",
    "    # Going from the last link scraped, scrape iter numbers of pages\n",
    "    for n in tqdm_notebook(range(start_idx,start_idx+iters)):\n",
    "        try:\n",
    "            recipe_dict.update(collect_data(links[n]))\n",
    "        except:\n",
    "            print(\"Error with link[{}]: {}\".format(n, links[n]))\n",
    "    \n",
    "    # Put the dictionary into a DataFrame for processing (might not actually be necessary)\n",
    "    recipe_df = np.transpose(pd.DataFrame(recipe_dict))\n",
    "    recipe_df.reset_index(inplace = True)\n",
    "    recipe_df.rename(columns={\"index\":\"Recipe_name\", \"Cooking time\":\"Cooking_time\", \"Prep time\":\"Prep_time\"}, inplace = True)\n",
    "    \n",
    "    # Add to the database and return the number of recipes added\n",
    "    recipes_added = write_to_db(recipe_df, db)\n",
    "    print(\"Number of recipes added: {}\".format(recipes_added))\n",
    "    \n",
    "    return start_idx+iters"
   ]
  },
  {
   "cell_type": "code",
   "execution_count": 213,
   "metadata": {},
   "outputs": [
    {
     "data": {
      "application/vnd.jupyter.widget-view+json": {
       "model_id": "4a77781adfd04c45931991d04287cfae",
       "version_major": 2,
       "version_minor": 0
      },
      "text/plain": [
       "HBox(children=(IntProgress(value=0, max=10), HTML(value='')))"
      ]
     },
     "metadata": {},
     "output_type": "display_data"
    },
    {
     "name": "stdout",
     "output_type": "stream",
     "text": [
      "\n",
      "Recipe Beef Stroganoff for Instant Pot® Recipe: already on database\n",
      "Recipe Amish White Bread Recipe: already on database\n",
      "Recipe Instant Pot® Hamburger Soup  Recipe: already on database\n",
      "Recipe Sloppy Joe Casserole with Noodles Recipe: already on database\n",
      "Recipe Grown-Up Homemade Peeps® Recipe: already on database\n",
      "Recipe Banana Banana Bread Recipe: already on database\n",
      "Recipe World's Best Lasagna: already on database\n",
      "Recipe Best Brownies: already on database\n",
      "Recipe Greek Turkey Burgers Recipe: already on database\n",
      "Recipe Fluffy Pancakes Recipe: already on database\n",
      "Number of recipes added: 0\n"
     ]
    },
    {
     "data": {
      "application/vnd.jupyter.widget-view+json": {
       "model_id": "69668568a0544fd79cdfb0edbc04d2fa",
       "version_major": 2,
       "version_minor": 0
      },
      "text/plain": [
       "HBox(children=(IntProgress(value=0, max=10), HTML(value='')))"
      ]
     },
     "metadata": {},
     "output_type": "display_data"
    },
    {
     "name": "stdout",
     "output_type": "stream",
     "text": [
      "Error with link[1119]: /recipe/24010/easy-chicken-marsala/\n",
      "\n",
      "Recipe Delicious Black Bean Burritos Recipe: already on database\n",
      "Recipe Air Fryer Chicken Taquitos Recipe: already on database\n",
      "Recipe Chef John's Carrot Cake Recipe: already on database\n",
      "Recipe Chicken Parmesan: already on database\n",
      "Recipe Mayo Chicken: already on database\n",
      "Recipe Good Old Fashioned Pancakes Recipe: already on database\n",
      "Recipe Creamy Au Gratin Potatoes Recipe: already on database\n",
      "Recipe Better-Than-Olive Garden® Alfredo Sauce  Recipe: already on database\n",
      "Number of recipes added: 1\n"
     ]
    }
   ],
   "source": [
    "start_idx = 1100\n",
    "for i in range(2):\n",
    "    start_idx = get_recipes(links, start_idx, 10, db)"
   ]
  },
  {
   "cell_type": "code",
   "execution_count": 218,
   "metadata": {},
   "outputs": [
    {
     "data": {
      "text/plain": [
       "(3663, 99)"
      ]
     },
     "execution_count": 218,
     "metadata": {},
     "output_type": "execute_result"
    }
   ],
   "source": [
    "len(links) - len(set(links)), len(set(links))"
   ]
  },
  {
   "cell_type": "code",
   "execution_count": 217,
   "metadata": {},
   "outputs": [
    {
     "name": "stdout",
     "output_type": "stream",
     "text": [
      "{'A', 'C', 'B'}\n"
     ]
    }
   ],
   "source": [
    "testlist = [\"A\", \"A\", \"B\", \"B\", \"C\"]\n",
    "len(testlist) - len(set(testlist))\n",
    "print(set(testlist))"
   ]
  },
  {
   "cell_type": "code",
   "execution_count": 188,
   "metadata": {},
   "outputs": [],
   "source": [
    "recipe_df = np.transpose(pd.DataFrame(recipe_dict))\n",
    "recipe_df.reset_index(inplace = True)\n",
    "recipe_df.rename(columns={\"index\":\"Recipe_name\", \"Cooking time\":\"Cooking_time\", \"Prep time\":\"Prep_time\"}, inplace = True)"
   ]
  },
  {
   "cell_type": "code",
   "execution_count": 189,
   "metadata": {
    "scrolled": true
   },
   "outputs": [
    {
     "data": {
      "text/html": [
       "<div>\n",
       "<style scoped>\n",
       "    .dataframe tbody tr th:only-of-type {\n",
       "        vertical-align: middle;\n",
       "    }\n",
       "\n",
       "    .dataframe tbody tr th {\n",
       "        vertical-align: top;\n",
       "    }\n",
       "\n",
       "    .dataframe thead th {\n",
       "        text-align: right;\n",
       "    }\n",
       "</style>\n",
       "<table border=\"1\" class=\"dataframe\">\n",
       "  <thead>\n",
       "    <tr style=\"text-align: right;\">\n",
       "      <th></th>\n",
       "      <th>Recipe_name</th>\n",
       "      <th>Category</th>\n",
       "      <th>Cooking_time</th>\n",
       "      <th>Ingredients</th>\n",
       "      <th>Method</th>\n",
       "      <th>Prep_time</th>\n",
       "      <th>Rating</th>\n",
       "    </tr>\n",
       "  </thead>\n",
       "  <tbody>\n",
       "    <tr>\n",
       "      <th>0</th>\n",
       "      <td>Kimchi Fried Rice with Frizzled Eggs Recipe</td>\n",
       "      <td>[Trusted Brands: Recipes and Tips, UNCLE BEN'S®]</td>\n",
       "      <td>PT15M</td>\n",
       "      <td>[(1 1/2 tablespoons, toasted sesame oil), (1 c...</td>\n",
       "      <td>[Heat 1 1/2 tablespoons sesame oil in a large ...</td>\n",
       "      <td>PT15M</td>\n",
       "      <td>5</td>\n",
       "    </tr>\n",
       "    <tr>\n",
       "      <th>1</th>\n",
       "      <td>Mexican Taco Meatloaf  Recipe</td>\n",
       "      <td>[World Cuisine, Latin American, Mexican]</td>\n",
       "      <td>PT45M</td>\n",
       "      <td>[(1 1/2 pounds, lean ground beef), (1 cup, cru...</td>\n",
       "      <td>[Preheat the oven to 350 degrees F (175 degree...</td>\n",
       "      <td>PT15M</td>\n",
       "      <td>4.55</td>\n",
       "    </tr>\n",
       "    <tr>\n",
       "      <th>2</th>\n",
       "      <td>Best Chocolate Chip Cookies</td>\n",
       "      <td>[Desserts, Cookies, Drop Cookies]</td>\n",
       "      <td>[PT10M]</td>\n",
       "      <td>[(1 cup, butter, softened), (1 cup, white suga...</td>\n",
       "      <td>[Preheat oven to 350 degrees F (175 degrees C)...</td>\n",
       "      <td>[PT20M]</td>\n",
       "      <td>4.61</td>\n",
       "    </tr>\n",
       "    <tr>\n",
       "      <th>3</th>\n",
       "      <td>Brown Sugar Banana Bread Recipe</td>\n",
       "      <td>[Breakfast and Brunch, Breakfast Bread]</td>\n",
       "      <td>PT40M</td>\n",
       "      <td>[(4 ripe, bananas, cut into chunks), (1 1/4 cu...</td>\n",
       "      <td>[Preheat oven to 350 degrees F (175 degrees C)...</td>\n",
       "      <td>PT15M</td>\n",
       "      <td>4.49</td>\n",
       "    </tr>\n",
       "    <tr>\n",
       "      <th>4</th>\n",
       "      <td>Janet's Rich Banana Bread Recipe</td>\n",
       "      <td>[Bread, Quick Bread, Fruit Bread, Banana Bread...</td>\n",
       "      <td>PT1H</td>\n",
       "      <td>[(1/2 cup, butter, melted), (1 cup, white suga...</td>\n",
       "      <td>[Preheat oven to 350 degrees F (175 degrees C)...</td>\n",
       "      <td>PT10M</td>\n",
       "      <td>4.82</td>\n",
       "    </tr>\n",
       "  </tbody>\n",
       "</table>\n",
       "</div>"
      ],
      "text/plain": [
       "                                   Recipe_name  \\\n",
       "0  Kimchi Fried Rice with Frizzled Eggs Recipe   \n",
       "1                Mexican Taco Meatloaf  Recipe   \n",
       "2                  Best Chocolate Chip Cookies   \n",
       "3              Brown Sugar Banana Bread Recipe   \n",
       "4             Janet's Rich Banana Bread Recipe   \n",
       "\n",
       "                                            Category Cooking_time  \\\n",
       "0   [Trusted Brands: Recipes and Tips, UNCLE BEN'S®]        PT15M   \n",
       "1           [World Cuisine, Latin American, Mexican]        PT45M   \n",
       "2                  [Desserts, Cookies, Drop Cookies]      [PT10M]   \n",
       "3            [Breakfast and Brunch, Breakfast Bread]        PT40M   \n",
       "4  [Bread, Quick Bread, Fruit Bread, Banana Bread...         PT1H   \n",
       "\n",
       "                                         Ingredients  \\\n",
       "0  [(1 1/2 tablespoons, toasted sesame oil), (1 c...   \n",
       "1  [(1 1/2 pounds, lean ground beef), (1 cup, cru...   \n",
       "2  [(1 cup, butter, softened), (1 cup, white suga...   \n",
       "3  [(4 ripe, bananas, cut into chunks), (1 1/4 cu...   \n",
       "4  [(1/2 cup, butter, melted), (1 cup, white suga...   \n",
       "\n",
       "                                              Method Prep_time Rating  \n",
       "0  [Heat 1 1/2 tablespoons sesame oil in a large ...     PT15M      5  \n",
       "1  [Preheat the oven to 350 degrees F (175 degree...     PT15M   4.55  \n",
       "2  [Preheat oven to 350 degrees F (175 degrees C)...   [PT20M]   4.61  \n",
       "3  [Preheat oven to 350 degrees F (175 degrees C)...     PT15M   4.49  \n",
       "4  [Preheat oven to 350 degrees F (175 degrees C)...     PT10M   4.82  "
      ]
     },
     "execution_count": 189,
     "metadata": {},
     "output_type": "execute_result"
    }
   ],
   "source": [
    "recipe_df.head()"
   ]
  },
  {
   "cell_type": "markdown",
   "metadata": {},
   "source": [
    "## Database\n",
    "Create the database and place the recipes into the database for storage"
   ]
  },
  {
   "cell_type": "code",
   "execution_count": 101,
   "metadata": {},
   "outputs": [],
   "source": [
    "import sqlalchemy\n",
    "import os\n",
    "import re"
   ]
  },
  {
   "cell_type": "code",
   "execution_count": 190,
   "metadata": {},
   "outputs": [],
   "source": [
    "# Create the database object to connect\n",
    "db_name = 'recipesdb'\n",
    "db_host = 'localhost'\n",
    "db_user = 'NeilSinclair'\n",
    "db_pass = 'Passw0rd!'\n",
    "db = sqlalchemy.create_engine('mysql+pymysql://{}:{}@{}/{}'.format(db_user, db_pass, db_host, db_name))"
   ]
  },
  {
   "cell_type": "code",
   "execution_count": 169,
   "metadata": {},
   "outputs": [],
   "source": [
    "# Quick clear of the DB for testing purposes\n",
    "#with db.connect() as conn:\n",
    "#    conn.execute(\"TRUNCATE TABLE recipes\")"
   ]
  },
  {
   "cell_type": "code",
   "execution_count": 198,
   "metadata": {},
   "outputs": [
    {
     "data": {
      "text/plain": [
       "97"
      ]
     },
     "execution_count": 198,
     "metadata": {},
     "output_type": "execute_result"
    }
   ],
   "source": [
    "recipe_df.shape[0]"
   ]
  },
  {
   "cell_type": "code",
   "execution_count": 192,
   "metadata": {},
   "outputs": [],
   "source": []
  },
  {
   "cell_type": "code",
   "execution_count": 212,
   "metadata": {},
   "outputs": [],
   "source": [
    "def write_to_db(recipe_df, db):\n",
    "    # Function that writes recipes to the database\n",
    "    # Parameters: recipe_df - a dataframe containing the recipes to be written to the DB\n",
    "    #             db        - the sqlalchemy database engine\n",
    "    # Returns: the number of recipes added to the DB\n",
    "    \n",
    "    # load items into the database\n",
    "    col_order = [\"recipe_name\", \"category\", \"cooking_time\", \"ingredients\", \"method\", \"prep_time\", \"rating\"]\n",
    "    query = 'INSERT INTO recipes (' + ' ,'.join(col_order) + ') VALUES (' + '%s, %s, %s, %s, %s, %s, %s' + ')'\n",
    "\n",
    "    with db.connect() as conn:\n",
    "        counter = 0\n",
    "        # Get a list of al of the recipes currently in the database\n",
    "        recipes_captured = [item[0] for item in conn.execute(\"SELECT (recipe_name) FROM recipes\").fetchall()]\n",
    "        # Cycle through each line in the dataframe currently storing the recipes\n",
    "        for i in range(0,recipe_df.shape[0]):\n",
    "            temp_list = []\n",
    "            # See if the recipe has been captured already, if so, don't add and move onto the next one  \n",
    "            recipe = recipe_df.iloc[i, :]\n",
    "            if recipe[0].lower() in recipes_captured:\n",
    "                print(\"Recipe {}: already on database\".format(recipe[0]))\n",
    "                continue\n",
    "            else:\n",
    "                for item in recipe:\n",
    "                    item = re.sub(\"\\[|\\]\", \"\", str(item)).lower()\n",
    "                    temp_list.append(str(item))\n",
    "                conn.execute(query, tuple(temp_list))\n",
    "                conn.execute(\"COMMIT\")\n",
    "                counter += 1\n",
    "    \n",
    "    return(counter)"
   ]
  },
  {
   "cell_type": "code",
   "execution_count": null,
   "metadata": {},
   "outputs": [],
   "source": []
  },
  {
   "cell_type": "code",
   "execution_count": 209,
   "metadata": {},
   "outputs": [
    {
     "data": {
      "text/plain": [
       "97"
      ]
     },
     "execution_count": 209,
     "metadata": {},
     "output_type": "execute_result"
    }
   ],
   "source": [
    "with db.connect() as conn:\n",
    "    #test = conn.execute(\"SELECT * FROM recipes WHERE category LIKE '%%mexican%%'\").fetchall()\n",
    "    test2 = list(conn.execute(\"SELECT (recipe_name) FROM recipes\").fetchall())\n",
    "    \n",
    "#for item in test2:\n",
    "#    print(item[0])\n",
    "itemlen = [item[0] for item in test2]\n",
    "len(itemlen)"
   ]
  },
  {
   "cell_type": "code",
   "execution_count": 18,
   "metadata": {},
   "outputs": [
    {
     "data": {
      "text/plain": [
       "'/recipe/10813/best-chocolate-chip-cookies/'"
      ]
     },
     "execution_count": 18,
     "metadata": {},
     "output_type": "execute_result"
    }
   ],
   "source": []
  },
  {
   "cell_type": "code",
   "execution_count": 22,
   "metadata": {},
   "outputs": [],
   "source": [
    "## Code here is for testing any scraping methods\n",
    "response = requests.get(\"https://www.allrecipes.com\"+str(links[5]))\n",
    "soup = BeautifulSoup(response.text, \"html.parser\")"
   ]
  },
  {
   "cell_type": "code",
   "execution_count": 23,
   "metadata": {},
   "outputs": [
    {
     "name": "stdout",
     "output_type": "stream",
     "text": [
      "6\n"
     ]
    },
    {
     "data": {
      "text/plain": [
       "['Preheat the oven to 350 degrees F (175 degrees C). Brush the inside of a fluted tube pan with 1 tablespoon melted butter.',\n",
       " 'Mix sugar, cinnamon, and nutmeg in a bowl. Combine 1/4 cup of the spiced sugar mixture with minced apples and stir until coated.',\n",
       " 'Separate cinnamon roll dough rounds and cut into quarters. Set aside the icing.',\n",
       " 'Spoon 1/2 of the apple mixture and 1/2 of the walnuts into the bottom of the prepared pan. Roll 1/2 of the cinnamon roll quarters in the remaining spiced sugar and place on top of the apples and walnuts. Spoon 1/2 of the remaining butter over dough. Repeat with remaining apples, walnuts, dough, and butter.',\n",
       " 'Bake in the preheated oven until golden brown, about 45 minutes. Let bread cool in the pan for 10 minutes, then invert onto a plate. Cool for 5 more minutes before coating with icing.',\n",
       " '']"
      ]
     },
     "execution_count": 23,
     "metadata": {},
     "output_type": "execute_result"
    }
   ],
   "source": [
    "method_list = []\n",
    "methods = soup.find_all(\"span\",class_=\"recipe-directions__list--item\")\n",
    "print(len(methods))\n",
    "if len(methods) == 0:\n",
    "    methods = soup.find_all(\"div\", class_=\"section-body\")\n",
    "for method in methods:\n",
    "    method = method.getText().strip()\n",
    "    if len(re.findall(\"[0-9]* calories\", method)) == 0:\n",
    "           method_list.append(method)\n",
    "method_list\n"
   ]
  },
  {
   "cell_type": "code",
   "execution_count": 104,
   "metadata": {},
   "outputs": [
    {
     "data": {
      "text/plain": [
       "' I had a dream '"
      ]
     },
     "execution_count": 104,
     "metadata": {},
     "output_type": "execute_result"
    }
   ],
   "source": []
  },
  {
   "cell_type": "code",
   "execution_count": null,
   "metadata": {},
   "outputs": [],
   "source": []
  }
 ],
 "metadata": {
  "kernelspec": {
   "display_name": "venv",
   "language": "python",
   "name": "venv"
  },
  "language_info": {
   "codemirror_mode": {
    "name": "ipython",
    "version": 3
   },
   "file_extension": ".py",
   "mimetype": "text/x-python",
   "name": "python",
   "nbconvert_exporter": "python",
   "pygments_lexer": "ipython3",
   "version": "3.7.3"
  }
 },
 "nbformat": 4,
 "nbformat_minor": 2
}
